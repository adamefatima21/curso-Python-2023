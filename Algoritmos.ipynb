{
  "nbformat": 4,
  "nbformat_minor": 0,
  "metadata": {
    "colab": {
      "provenance": [],
      "authorship_tag": "ABX9TyOEEOmn64J94MEI9QL/hEN6",
      "include_colab_link": true
    },
    "kernelspec": {
      "name": "python3",
      "display_name": "Python 3"
    },
    "language_info": {
      "name": "python"
    }
  },
  "cells": [
    {
      "cell_type": "markdown",
      "metadata": {
        "id": "view-in-github",
        "colab_type": "text"
      },
      "source": [
        "<a href=\"https://colab.research.google.com/github/adamefatima21/curso-Python-2023/blob/main/Algoritmos.ipynb\" target=\"_parent\"><img src=\"https://colab.research.google.com/assets/colab-badge.svg\" alt=\"Open In Colab\"/></a>"
      ]
    },
    {
      "cell_type": "markdown",
      "source": [
        "# Ejercicio 1"
      ],
      "metadata": {
        "id": "4piN7DFPxs3K"
      }
    },
    {
      "cell_type": "code",
      "execution_count": null,
      "metadata": {
        "colab": {
          "base_uri": "https://localhost:8080/"
        },
        "id": "rPTzaMJK62HV",
        "outputId": "3cad1e01-e731-44e0-a0df-5ea3d3345e48"
      },
      "outputs": [
        {
          "output_type": "execute_result",
          "data": {
            "text/plain": [
              "233168"
            ]
          },
          "metadata": {},
          "execution_count": 1
        }
      ],
      "source": [
        "lista=[i for i in range(1,1000)]\n",
        "numeros_tres_lista=[]\n",
        "suma=0\n",
        "for j in lista:\n",
        "  if j%3==0 or j%5==0:\n",
        "    #numeros_tres_lista.append(j)\n",
        "    suma+=j\n",
        "suma"
      ]
    },
    {
      "cell_type": "markdown",
      "source": [
        "# Ejercicio 2"
      ],
      "metadata": {
        "id": "L5LtUOtnxyJ3"
      }
    },
    {
      "cell_type": "code",
      "source": [
        "def fibonacci(n):\n",
        "  if n < 2:\n",
        "    return n\n",
        "  else:\n",
        "    fib = (fibonacci(n-1)) + (fibonacci(n-2))\n",
        "    return fib\n",
        "\n",
        "i = 0\n",
        "suma = 0\n",
        "\n",
        "while fibonacci(i) < 4_000_000:\n",
        "  if fibonacci(i)%2 == 0:\n",
        "    suma += fibonacci(i)\n",
        "    i += 1\n",
        "  else:\n",
        "    i += 1\n",
        "\n",
        "print(suma)"
      ],
      "metadata": {
        "colab": {
          "base_uri": "https://localhost:8080/"
        },
        "id": "9rlnlBHrx1Ve",
        "outputId": "cb4d0a80-7df1-4f97-b570-84b5eeeb7463"
      },
      "execution_count": 2,
      "outputs": [
        {
          "output_type": "stream",
          "name": "stdout",
          "text": [
            "4613732\n"
          ]
        }
      ]
    },
    {
      "cell_type": "markdown",
      "source": [
        "# Ejercicio 3"
      ],
      "metadata": {
        "id": "v_HdLHxS0LDb"
      }
    },
    {
      "cell_type": "code",
      "source": [
        "capicua_list = []\n",
        "\n",
        "def is_capi(num):\n",
        "  num = str(num)\n",
        "  inv = num[::-1]\n",
        "  if(num == inv):\n",
        "    return True\n",
        "\n",
        "  else:\n",
        "    return False\n",
        "\n",
        "for i in range(1,1000):\n",
        "  for j in range(1, 1000):\n",
        "    x = i*j\n",
        "\n",
        "    if is_capi(x):\n",
        "\n",
        "      capicua_list.append(x)\n",
        "\n",
        "\n",
        "print(max(capicua_list))"
      ],
      "metadata": {
        "colab": {
          "base_uri": "https://localhost:8080/"
        },
        "id": "yusfBrRd0Qww",
        "outputId": "6e21059e-5f42-4726-afb7-c2d4376510e0"
      },
      "execution_count": 4,
      "outputs": [
        {
          "output_type": "stream",
          "name": "stdout",
          "text": [
            "906609\n"
          ]
        }
      ]
    }
  ]
}