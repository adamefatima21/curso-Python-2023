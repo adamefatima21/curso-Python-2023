{
  "nbformat": 4,
  "nbformat_minor": 0,
  "metadata": {
    "colab": {
      "provenance": [],
      "authorship_tag": "ABX9TyOC9O69b0iIbM6GxVK5BnzR",
      "include_colab_link": true
    },
    "kernelspec": {
      "name": "python3",
      "display_name": "Python 3"
    },
    "language_info": {
      "name": "python"
    }
  },
  "cells": [
    {
      "cell_type": "markdown",
      "metadata": {
        "id": "view-in-github",
        "colab_type": "text"
      },
      "source": [
        "<a href=\"https://colab.research.google.com/github/adamefatima21/curso-Python-2023/blob/main/Galleta.ipynb\" target=\"_parent\"><img src=\"https://colab.research.google.com/assets/colab-badge.svg\" alt=\"Open In Colab\"/></a>"
      ]
    },
    {
      "cell_type": "code",
      "source": [
        "class Galleta:\n",
        "  def __init__(self,sabor, diametro, chispas):\n",
        "    self.sabor = sabor\n",
        "    self.diametro = diametro\n",
        "    self.chispas = chispas"
      ],
      "metadata": {
        "id": "jTTvHUAgkPk4"
      },
      "execution_count": 28,
      "outputs": []
    },
    {
      "cell_type": "code",
      "source": [
        "sabor =  (input(\"que sabor es? \"))\n",
        "diametro = (float(input(\"cual es el diametro de la galleta? \")))\n",
        "chispas = (input(\"tiene chispas? \"))\n",
        "\n",
        "if chispas == \"si\":\n",
        "  peso = (float(diametro*11)/4.4 + 2)\n",
        "else:\n",
        "    peso = float(diametro*11)/4.4\n",
        "\n",
        "\n",
        "\n",
        "\n"
      ],
      "metadata": {
        "colab": {
          "base_uri": "https://localhost:8080/"
        },
        "id": "eC2buyd6qhga",
        "outputId": "f389e8aa-d550-4be6-d5f1-d0952a43c36b"
      },
      "execution_count": 50,
      "outputs": [
        {
          "name": "stdout",
          "output_type": "stream",
          "text": [
            "que sabor es? chocolate\n",
            "cual es el diametro de la galleta? 4.4\n",
            "tiene chispas? si\n"
          ]
        }
      ]
    },
    {
      "cell_type": "code",
      "source": [
        "print(\"El peso de la galleta es: \",peso, \"gramos\")\n",
        "def peso(self):\n",
        " return"
      ],
      "metadata": {
        "colab": {
          "base_uri": "https://localhost:8080/"
        },
        "id": "xSrjLvw_tg6I",
        "outputId": "3eaea905-b127-433f-dc03-cc28a2ba36bd"
      },
      "execution_count": 51,
      "outputs": [
        {
          "output_type": "stream",
          "name": "stdout",
          "text": [
            "El peso de la galleta es:  13.0 gramos\n"
          ]
        }
      ]
    }
  ]
}