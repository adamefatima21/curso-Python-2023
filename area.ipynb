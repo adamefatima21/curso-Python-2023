{
  "nbformat": 4,
  "nbformat_minor": 0,
  "metadata": {
    "colab": {
      "provenance": [],
      "authorship_tag": "ABX9TyOO8TAGiM7oKarcntf54gtl",
      "include_colab_link": true
    },
    "kernelspec": {
      "name": "python3",
      "display_name": "Python 3"
    },
    "language_info": {
      "name": "python"
    }
  },
  "cells": [
    {
      "cell_type": "markdown",
      "metadata": {
        "id": "view-in-github",
        "colab_type": "text"
      },
      "source": [
        "<a href=\"https://colab.research.google.com/github/adamefatima21/curso-Python-2023/blob/main/area.ipynb\" target=\"_parent\"><img src=\"https://colab.research.google.com/assets/colab-badge.svg\" alt=\"Open In Colab\"/></a>"
      ]
    },
    {
      "cell_type": "code",
      "execution_count": null,
      "metadata": {
        "colab": {
          "base_uri": "https://localhost:8080/"
        },
        "id": "097w34sMY3f7",
        "outputId": "6384a650-353c-4008-8d50-3f9a3b82a6f8"
      },
      "outputs": [
        {
          "output_type": "stream",
          "name": "stdout",
          "text": [
            "Escriba el radio del circulo => 45.6\n",
            "escriba la circunferencia del circulo => 34.7\n",
            "el area del circulo es:  6532.4965824\n",
            "el perimetro del circulo es:  286.513008\n"
          ]
        }
      ],
      "source": [
        "r = float(input('Escriba el radio del circulo => '))\n",
        "y = float(input('escriba la circunferencia del circulo => '))\n",
        "pi = 3.14159\n",
        "r1 = pi * r * r\n",
        "y1 = 2 * pi * r\n",
        "\n",
        "print('el area del circulo es: ', r1)\n",
        "print('el perimetro del circulo es: ', y1)"
      ]
    },
    {
      "cell_type": "markdown",
      "source": [
        "Creando una funcion con argumetos"
      ],
      "metadata": {
        "id": "4mXc8C61Ace-"
      }
    },
    {
      "cell_type": "code",
      "source": [
        "def area_cuadrado(lado):\n",
        " \"\"\"Calcula el area del cuadrado\"\"\"\n",
        " area = lado * lado\n",
        " return area"
      ],
      "metadata": {
        "id": "7vyinyZ2AoLg"
      },
      "execution_count": 4,
      "outputs": []
    },
    {
      "cell_type": "code",
      "source": [
        " area_cuadrado(4)"
      ],
      "metadata": {
        "colab": {
          "base_uri": "https://localhost:8080/"
        },
        "id": "tUrB7crhBDSj",
        "outputId": "1970fd7e-8f85-4134-d6b3-bb30a38880ed"
      },
      "execution_count": 6,
      "outputs": [
        {
          "output_type": "execute_result",
          "data": {
            "text/plain": [
              "16"
            ]
          },
          "metadata": {},
          "execution_count": 6
        }
      ]
    },
    {
      "cell_type": "code",
      "source": [
        "def area_rectangulo(base, altura):\n",
        "  \"\"\"Calcular el area de un rectangulo\"\"\"\n",
        "  area = base * altura\n",
        "  return area"
      ],
      "metadata": {
        "id": "vnueZ4svC-ll"
      },
      "execution_count": 8,
      "outputs": []
    },
    {
      "cell_type": "code",
      "source": [
        "area_rectangulo (4, 5)"
      ],
      "metadata": {
        "colab": {
          "base_uri": "https://localhost:8080/"
        },
        "id": "xxZR0vSgEDvw",
        "outputId": "1675f6c0-34a1-4893-a548-9cb0cbd7ab07"
      },
      "execution_count": 9,
      "outputs": [
        {
          "output_type": "execute_result",
          "data": {
            "text/plain": [
              "20"
            ]
          },
          "metadata": {},
          "execution_count": 9
        }
      ]
    },
    {
      "cell_type": "code",
      "source": [
        "def perim_rectangulo(lado1, lado2):\n",
        "  \"\"\"Calcular el perimetro de un rectangulo\"\"\"\n",
        "  perim = 2*lado1 + 2*lado2\n",
        "  return perim"
      ],
      "metadata": {
        "id": "ySzYOmOAEeNs"
      },
      "execution_count": 10,
      "outputs": []
    },
    {
      "cell_type": "code",
      "source": [
        "perim_rectangulo(4, 7)"
      ],
      "metadata": {
        "colab": {
          "base_uri": "https://localhost:8080/"
        },
        "id": "5siKizv6E21l",
        "outputId": "4590ed7c-4c5f-4474-e11c-16e15d393dff"
      },
      "execution_count": 11,
      "outputs": [
        {
          "output_type": "execute_result",
          "data": {
            "text/plain": [
              "22"
            ]
          },
          "metadata": {},
          "execution_count": 11
        }
      ]
    },
    {
      "cell_type": "code",
      "source": [
        "def area_circulo(radio):\n",
        "  \"\"\"calcular el area del circulo\"\"\"\n",
        "  pi = 3.1416\n",
        "  area = pi * pow(radio, 2)\n",
        "  return area"
      ],
      "metadata": {
        "id": "22j3pjZnFQz4"
      },
      "execution_count": 12,
      "outputs": []
    },
    {
      "cell_type": "code",
      "source": [
        "area_circulo(4)"
      ],
      "metadata": {
        "colab": {
          "base_uri": "https://localhost:8080/"
        },
        "id": "qw9WPtN8FvWd",
        "outputId": "f39021f7-ebba-4ee6-dc26-10bbc95d80a5"
      },
      "execution_count": 13,
      "outputs": [
        {
          "output_type": "execute_result",
          "data": {
            "text/plain": [
              "50.2656"
            ]
          },
          "metadata": {},
          "execution_count": 13
        }
      ]
    },
    {
      "cell_type": "code",
      "source": [
        "def perim_circulo(radio1):\n",
        "  \"\"\"Calcular el perimetro de un circulo\"\"\"\n",
        "  pi = 3.1416\n",
        "  perim = 2*pi*radio1\n",
        "  return perim"
      ],
      "metadata": {
        "id": "MCX_2T8tGBtQ"
      },
      "execution_count": 16,
      "outputs": []
    },
    {
      "cell_type": "code",
      "source": [
        "perim_circulo(3)"
      ],
      "metadata": {
        "colab": {
          "base_uri": "https://localhost:8080/"
        },
        "id": "AhKpLonCGhmy",
        "outputId": "ba7b08e3-f20c-4db9-fbf0-644c11c122ed"
      },
      "execution_count": 17,
      "outputs": [
        {
          "output_type": "execute_result",
          "data": {
            "text/plain": [
              "18.8496"
            ]
          },
          "metadata": {},
          "execution_count": 17
        }
      ]
    }
  ]
}