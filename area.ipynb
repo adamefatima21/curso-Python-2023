{
  "nbformat": 4,
  "nbformat_minor": 0,
  "metadata": {
    "colab": {
      "provenance": [],
      "authorship_tag": "ABX9TyMpG4vVPnAhO0XzgmwhUUmp",
      "include_colab_link": true
    },
    "kernelspec": {
      "name": "python3",
      "display_name": "Python 3"
    },
    "language_info": {
      "name": "python"
    }
  },
  "cells": [
    {
      "cell_type": "markdown",
      "metadata": {
        "id": "view-in-github",
        "colab_type": "text"
      },
      "source": [
        "<a href=\"https://colab.research.google.com/github/adamefatima21/curso-Python-2023/blob/main/area.ipynb\" target=\"_parent\"><img src=\"https://colab.research.google.com/assets/colab-badge.svg\" alt=\"Open In Colab\"/></a>"
      ]
    },
    {
      "cell_type": "code",
      "execution_count": 3,
      "metadata": {
        "colab": {
          "base_uri": "https://localhost:8080/"
        },
        "id": "097w34sMY3f7",
        "outputId": "6384a650-353c-4008-8d50-3f9a3b82a6f8"
      },
      "outputs": [
        {
          "output_type": "stream",
          "name": "stdout",
          "text": [
            "Escriba el radio del circulo => 45.6\n",
            "escriba la circunferencia del circulo => 34.7\n",
            "el area del circulo es:  6532.4965824\n",
            "el perimetro del circulo es:  286.513008\n"
          ]
        }
      ],
      "source": [
        "r = float(input('Escriba el radio del circulo => '))\n",
        "y = float(input('escriba la circunferencia del circulo => '))\n",
        "pi = 3.14159\n",
        "r1 = pi * r * r\n",
        "y1 = 2 * pi * r\n",
        "\n",
        "print('el area del circulo es: ', r1)\n",
        "print('el perimetro del circulo es: ', y1)"
      ]
    }
  ]
}