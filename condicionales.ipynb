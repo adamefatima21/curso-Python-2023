{
  "nbformat": 4,
  "nbformat_minor": 0,
  "metadata": {
    "colab": {
      "provenance": [],
      "authorship_tag": "ABX9TyPdbND7WiU924TgSLbjV9Yh",
      "include_colab_link": true
    },
    "kernelspec": {
      "name": "python3",
      "display_name": "Python 3"
    },
    "language_info": {
      "name": "python"
    }
  },
  "cells": [
    {
      "cell_type": "markdown",
      "metadata": {
        "id": "view-in-github",
        "colab_type": "text"
      },
      "source": [
        "<a href=\"https://colab.research.google.com/github/adamefatima21/curso-Python-2023/blob/main/condicionales.ipynb\" target=\"_parent\"><img src=\"https://colab.research.google.com/assets/colab-badge.svg\" alt=\"Open In Colab\"/></a>"
      ]
    },
    {
      "cell_type": "code",
      "execution_count": 13,
      "metadata": {
        "colab": {
          "base_uri": "https://localhost:8080/"
        },
        "id": "5u-rA07DbOEB",
        "outputId": "ec846a26-ff6a-467d-8320-77dce71779a7"
      },
      "outputs": [
        {
          "output_type": "stream",
          "name": "stdout",
          "text": [
            "Ingrese el dia: Domingo\n",
            "Dia de descanso bien merecido!\n"
          ]
        }
      ],
      "source": [
        "dia = input(\"Ingrese el dia: \")\n",
        "\n",
        "if dia == \"Lunes\":\n",
        "  print(\"principio de semana?, No voy a trabajar!\")\n",
        "\n",
        "elif dia == \"Martes\":\n",
        "    print(\"ni te cases ni te embarques pa que voy a arriesgarme\\n No voy a trabajar! \")\n",
        "\n",
        "elif dia == \"Miercoles\":\n",
        "    print(\"Se casa la patrona ¡Ay que pachangona!\")\n",
        "\n",
        "elif dia == \"Jueves\":\n",
        "    print(\"Estoy muy desvelado, me siento hasta mareado\")\n",
        "\n",
        "elif dia == \"Viernes\":\n",
        "    print(\"Que muere jesucristo!\\nDonde se ha visto?\\nNo voy a trabajar\")\n",
        "\n",
        "elif dia == \"Sabado\":\n",
        "    print(\"trabajo medio dia, por medio dia \\nNo voy a trabajar!\")\n",
        "\n",
        "elif dia == \"Domingo\":\n",
        "    print(\"Dia de descanso bien merecido!\")\n",
        "\n",
        "else:\n",
        "      print(\"Dia incorrecto\")"
      ]
    }
  ]
}