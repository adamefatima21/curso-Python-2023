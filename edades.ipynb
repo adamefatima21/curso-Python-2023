{
  "nbformat": 4,
  "nbformat_minor": 0,
  "metadata": {
    "colab": {
      "provenance": [],
      "authorship_tag": "ABX9TyPTD/Ug8EpRAViP1QdR3AYO",
      "include_colab_link": true
    },
    "kernelspec": {
      "name": "python3",
      "display_name": "Python 3"
    },
    "language_info": {
      "name": "python"
    }
  },
  "cells": [
    {
      "cell_type": "markdown",
      "metadata": {
        "id": "view-in-github",
        "colab_type": "text"
      },
      "source": [
        "<a href=\"https://colab.research.google.com/github/adamefatima21/curso-Python-2023/blob/main/edades.ipynb\" target=\"_parent\"><img src=\"https://colab.research.google.com/assets/colab-badge.svg\" alt=\"Open In Colab\"/></a>"
      ]
    },
    {
      "cell_type": "code",
      "execution_count": 1,
      "metadata": {
        "colab": {
          "base_uri": "https://localhost:8080/"
        },
        "id": "Q4XoYrh6z66D",
        "outputId": "37445365-b174-4acb-e56a-964218ecee20"
      },
      "outputs": [
        {
          "output_type": "stream",
          "name": "stdout",
          "text": [
            "cuantos años tienes? 5\n",
            "Ha cumplido 1 años\n",
            "Ha cumplido 2 años\n",
            "Ha cumplido 3 años\n",
            "Ha cumplido 4 años\n",
            "Ha cumplido 5 años\n"
          ]
        }
      ],
      "source": [
        "edad = int(input(\"cuantos años tienes? \"))\n",
        "for i in range(1, edad + 1):\n",
        "  print(\"Ha cumplido\", i, \"años\")"
      ]
    }
  ]
}