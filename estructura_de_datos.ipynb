{
  "nbformat": 4,
  "nbformat_minor": 0,
  "metadata": {
    "colab": {
      "provenance": [],
      "authorship_tag": "ABX9TyMGnV7TVgkXIGiUBpu0wguQ",
      "include_colab_link": true
    },
    "kernelspec": {
      "name": "python3",
      "display_name": "Python 3"
    },
    "language_info": {
      "name": "python"
    }
  },
  "cells": [
    {
      "cell_type": "markdown",
      "metadata": {
        "id": "view-in-github",
        "colab_type": "text"
      },
      "source": [
        "<a href=\"https://colab.research.google.com/github/adamefatima21/curso-Python-2023/blob/main/estructura_de_datos.ipynb\" target=\"_parent\"><img src=\"https://colab.research.google.com/assets/colab-badge.svg\" alt=\"Open In Colab\"/></a>"
      ]
    },
    {
      "cell_type": "code",
      "execution_count": null,
      "metadata": {
        "colab": {
          "base_uri": "https://localhost:8080/"
        },
        "id": "olRXN66-sxyO",
        "outputId": "d55a6ad8-8ec1-4552-ef81-c459686f1280"
      },
      "outputs": [
        {
          "output_type": "stream",
          "name": "stdout",
          "text": [
            "Las palabras más comunes son:\n",
            "de: 5\n",
            "es: 3\n",
            "python: 2\n",
            "y: 2\n",
            "un: 1\n",
            "lenguaje: 1\n",
            "programación: 1\n",
            "interpretado: 1\n",
            "alto: 1\n",
            "nivel.: 1\n",
            "conocido: 1\n",
            "por: 1\n",
            "su: 1\n",
            "legibilidad: 1\n",
            "claridad: 1\n"
          ]
        }
      ],
      "source": [
        "from collections import OrderedDict, Counter\n",
        "#import re\n",
        "\n",
        "def contar_frecuencia_palabras(texto):\n",
        "    # Obtener todas las palabras del texto en minúsculas\n",
        "    palabras = texto.lower().split()\n",
        "\n",
        "    # Usar Counter para contar la frecuencia de las palabras\n",
        "    contador_palabras = Counter(palabras)\n",
        "\n",
        "    return contador_palabras\n",
        "\n",
        "def palabras_mas_comunes(contador_palabras, n=15):\n",
        "    # Usar OrderedDict para obtener las palabras más comunes en orden\n",
        "    palabras_comunes = OrderedDict(contador_palabras.most_common(n))\n",
        "\n",
        "    return palabras_comunes\n",
        "\n",
        "texto = \"\"\"\n",
        "Python es un lenguaje de programación interpretado de alto nivel.\n",
        "Es conocido por su legibilidad y claridad de código.\n",
        "Python es utilizado en una amplia variedad de aplicaciones,\n",
        "desde desarrollo web hasta análisis de datos y aprendizaje automático.\n",
        "\"\"\"\n",
        "\n",
        "contador = contar_frecuencia_palabras(texto)\n",
        "palabras_comunes = palabras_mas_comunes(contador)\n",
        "\n",
        "print(\"Las palabras más comunes son:\")\n",
        "for palabra, frecuencia in palabras_comunes.items():\n",
        "    print(f\"{palabra}: {frecuencia}\")"
      ]
    }
  ]
}