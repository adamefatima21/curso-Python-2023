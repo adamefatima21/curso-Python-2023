{
  "nbformat": 4,
  "nbformat_minor": 0,
  "metadata": {
    "colab": {
      "provenance": [],
      "authorship_tag": "ABX9TyOjzUdf6pHefemLHwK2zxwT",
      "include_colab_link": true
    },
    "kernelspec": {
      "name": "python3",
      "display_name": "Python 3"
    },
    "language_info": {
      "name": "python"
    }
  },
  "cells": [
    {
      "cell_type": "markdown",
      "metadata": {
        "id": "view-in-github",
        "colab_type": "text"
      },
      "source": [
        "<a href=\"https://colab.research.google.com/github/adamefatima21/curso-Python-2023/blob/main/frutas.ipynb\" target=\"_parent\"><img src=\"https://colab.research.google.com/assets/colab-badge.svg\" alt=\"Open In Colab\"/></a>"
      ]
    },
    {
      "cell_type": "code",
      "execution_count": 1,
      "metadata": {
        "colab": {
          "base_uri": "https://localhost:8080/"
        },
        "id": "hc2HekplxjZW",
        "outputId": "3f031ccd-59dd-432d-aa9a-a3aa224c0add"
      },
      "outputs": [
        {
          "output_type": "stream",
          "name": "stdout",
          "text": [
            "fruta1: manzana\n",
            "fruta2: platano\n",
            "fruta3: cereza\n"
          ]
        }
      ],
      "source": [
        "frutas = [\"manzana\", \"platano\", \"cereza\"]\n",
        "contador=0\n",
        "for i in frutas:\n",
        "  contador+=1\n",
        "  print(f\"fruta{contador}:\",i)"
      ]
    },
    {
      "cell_type": "code",
      "source": [
        "adj = [\"roja\", \"grande\", \"dulce\"]\n",
        "frutas = [\"manzana\", \"platano\", \"cereza\"]\n",
        "for i in range(3):\n",
        "  print(f\"{adj[0]} {frutas[i]} \")\n",
        "for i in range(3):\n",
        "  print(f\"{adj[1]} {frutas[i]} \")\n",
        "for i in range(3):\n",
        "  print(f\"{adj[2]} {frutas[i]} \")"
      ],
      "metadata": {
        "colab": {
          "base_uri": "https://localhost:8080/"
        },
        "id": "rvwG-28ZySZu",
        "outputId": "f7c8f130-2820-4fc1-d2a6-e60b851fc1dd"
      },
      "execution_count": 2,
      "outputs": [
        {
          "output_type": "stream",
          "name": "stdout",
          "text": [
            "roja manzana \n",
            "roja platano \n",
            "roja cereza \n",
            "grande manzana \n",
            "grande platano \n",
            "grande cereza \n",
            "dulce manzana \n",
            "dulce platano \n",
            "dulce cereza \n"
          ]
        }
      ]
    }
  ]
}