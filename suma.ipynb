{
  "nbformat": 4,
  "nbformat_minor": 0,
  "metadata": {
    "colab": {
      "provenance": [],
      "authorship_tag": "ABX9TyM8xJigKnYRt/YOWumcqFkX",
      "include_colab_link": true
    },
    "kernelspec": {
      "name": "python3",
      "display_name": "Python 3"
    },
    "language_info": {
      "name": "python"
    }
  },
  "cells": [
    {
      "cell_type": "markdown",
      "metadata": {
        "id": "view-in-github",
        "colab_type": "text"
      },
      "source": [
        "<a href=\"https://colab.research.google.com/github/adamefatima21/curso-Python-2023/blob/main/suma.ipynb\" target=\"_parent\"><img src=\"https://colab.research.google.com/assets/colab-badge.svg\" alt=\"Open In Colab\"/></a>"
      ]
    },
    {
      "cell_type": "code",
      "execution_count": 3,
      "metadata": {
        "colab": {
          "base_uri": "https://localhost:8080/"
        },
        "id": "hBvIrA-90xnW",
        "outputId": "ff97c42b-fb91-4e46-db94-d7af8bf2b162"
      },
      "outputs": [
        {
          "output_type": "stream",
          "name": "stdout",
          "text": [
            "ingrese un numero: 2\n",
            "ingrese un numero: 3\n",
            "ingrese un numero: 2\n",
            "ingrese un numero: 0\n",
            "La suma es: 7\n"
          ]
        }
      ],
      "source": [
        "suma = 0\n",
        "numero = None\n",
        "#se ingresa 0 para finalizar\n",
        "while numero !=0:\n",
        "  numero = int(input(\"ingrese un numero: \"))\n",
        "  suma += numero\n",
        "print(f\"La suma es: {suma}\")"
      ]
    }
  ]
}