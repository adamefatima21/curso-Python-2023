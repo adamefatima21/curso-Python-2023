{
  "nbformat": 4,
  "nbformat_minor": 0,
  "metadata": {
    "colab": {
      "provenance": [],
      "authorship_tag": "ABX9TyMfPa9RfDImkY3RuqkfPF8O",
      "include_colab_link": true
    },
    "kernelspec": {
      "name": "python3",
      "display_name": "Python 3"
    },
    "language_info": {
      "name": "python"
    }
  },
  "cells": [
    {
      "cell_type": "markdown",
      "metadata": {
        "id": "view-in-github",
        "colab_type": "text"
      },
      "source": [
        "<a href=\"https://colab.research.google.com/github/adamefatima21/curso-Python-2023/blob/main/tuplas.ipynb\" target=\"_parent\"><img src=\"https://colab.research.google.com/assets/colab-badge.svg\" alt=\"Open In Colab\"/></a>"
      ]
    },
    {
      "cell_type": "code",
      "execution_count": 1,
      "metadata": {
        "colab": {
          "base_uri": "https://localhost:8080/"
        },
        "id": "MrKcErGmv7L3",
        "outputId": "c75dc173-80f5-408f-aad4-28dd44cf1184"
      },
      "outputs": [
        {
          "output_type": "stream",
          "name": "stdout",
          "text": [
            "15 21 azul\n"
          ]
        }
      ],
      "source": [
        "var_base = 15\n",
        "var_altura = 21\n",
        "var_color = \"azul\"\n",
        "\n",
        "def calcular_propiedades_rectangulo(base, altura, color):\n",
        "  print(base, altura, color)\n",
        "\n",
        "calcular_propiedades_rectangulo(base=var_base, altura=var_altura, color=var_color)"
      ]
    }
  ]
}